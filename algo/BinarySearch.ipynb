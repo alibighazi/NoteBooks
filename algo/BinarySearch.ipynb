{
 "metadata": {
  "kernelspec": {
   "display_name": ".NET (C#)",
   "language": "C#",
   "name": ".net-csharp"
  },
  "language_info": {
   "name": "C#"
  }
 },
 "cells": [
  {
   "cell_type": "markdown",
   "source": [
    "# binary search (iterative / recursive)"
   ],
   "metadata": {}
  },
  {
   "cell_type": "markdown",
   "source": [
    "- Binary search is an efficient algorithm for finding an item from a sorted list of items\r\n",
    "- Time complexity: O(log n)\r\n",
    "- Space complexity: \r\n",
    "  - iterative: O(1)\r\n",
    "  - recursive: O(log n)"
   ],
   "metadata": {}
  },
  {
   "cell_type": "code",
   "execution_count": null,
   "source": [
    "public int binarySearchIte(int[] inputArray, int key) {\r\n",
    "    int min = 0;\r\n",
    "    int max = inputArray.Length - 1;\r\n",
    "    while (min <= max) {\r\n",
    "        int mid = min + (max - min) / 2;\r\n",
    "        if (key == inputArray[mid]) return mid;\r\n",
    "        else if (key < inputArray[mid]) max = mid - 1;\r\n",
    "        else min = mid + 1;\r\n",
    "    }\r\n",
    "    return -1;\r\n",
    "}\r\n",
    "\r\n",
    "public int binarySearchRec(int[] arr, int l, int r, int x) {\r\n",
    "    if (r >= l) {\r\n",
    "        int mid = l + (r - l) / 2;\r\n",
    "        if (arr[mid] == x) return mid;\r\n",
    "        if (arr[mid] > x) return binarySearchRec(arr, l, mid - 1, x);\r\n",
    "        return binarySearchRec(arr, mid + 1, r, x);\r\n",
    "    }\r\n",
    "    return -1;\r\n",
    "}\r\n",
    "\r\n",
    "var arr = new int[] {-1,0,3,5,9,12};\r\n",
    "var key = 9;\r\n",
    "var resIte = binarySearchIte(arr, key); // 4\r\n",
    "var resRec = binarySearchRec(arr,0, arr.Length, key); // 4\r\n",
    "\r\n",
    "System.Console.WriteLine(\"iterative : \" + resIte);\r\n",
    "System.Console.WriteLine(\"recursive : \" + resRec);"
   ],
   "outputs": [
    {
     "output_type": "stream",
     "name": "stdout",
     "text": [
      "iterative : 4\r\n",
      "recursive : 4\r\n"
     ]
    }
   ],
   "metadata": {
    "dotnet_interactive": {
     "language": "csharp"
    }
   }
  }
 ],
 "nbformat": 4,
 "nbformat_minor": 2
}